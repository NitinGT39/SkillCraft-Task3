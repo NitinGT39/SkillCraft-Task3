{
 "cells": [
  {
   "cell_type": "code",
   "execution_count": null,
   "id": "60b7c696-b447-431e-abbf-40e74763c9b9",
   "metadata": {},
   "outputs": [],
   "source": []
  }
 ],
 "metadata": {
  "kernelspec": {
   "display_name": "",
   "name": ""
  },
  "language_info": {
   "name": ""
  }
 },
 "nbformat": 4,
 "nbformat_minor": 5
}
